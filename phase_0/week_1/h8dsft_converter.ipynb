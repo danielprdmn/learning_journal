{
  "nbformat": 4,
  "nbformat_minor": 0,
  "metadata": {
    "colab": {
      "name": "h8dsft_converter.ipynb",
      "provenance": [],
      "collapsed_sections": []
    },
    "kernelspec": {
      "name": "python3",
      "display_name": "Python 3"
    },
    "language_info": {
      "name": "python"
    }
  },
  "cells": [
    {
      "cell_type": "markdown",
      "source": [
        "# SOAL 1"
      ],
      "metadata": {
        "id": "Id3sH6mLnAFJ"
      }
    },
    {
      "cell_type": "code",
      "source": [
        "# Buatlah sebuah function yang dapat mengkonversi suhu dari kelvin ke celcius, dan celcius ke kelvin.\n",
        "\n",
        "'''satuan: satuan awal yang akan dikonversi'''\n",
        "'''satuan dapat ditulis sebagai 'C' (Celcious) atau 'K' (Kelvin)'''\n",
        "\n",
        "def CandK (satuan, suhu):\n",
        "  if satuan == 'C':           \n",
        "    suhu_a = suhu + 273.15\n",
        "    '''jika satuan adalah Celcious, rumus yg dipakai adalah C+273.15 '''\n",
        "  if satuan == 'K':\n",
        "    suhu_a = suhu - 273.15\n",
        "    '''jika satuan adalah Kelvin, rumus yg dipakai adalah K-273.15 '''\n",
        "  return (suhu_a)\n",
        "\n",
        "CandK ('K', 350)"
      ],
      "metadata": {
        "colab": {
          "base_uri": "https://localhost:8080/"
        },
        "id": "AiOVRSGriYi3",
        "outputId": "4e91f411-0b26-4c38-c5f4-9ac3f0289d95"
      },
      "execution_count": null,
      "outputs": [
        {
          "output_type": "execute_result",
          "data": {
            "text/plain": [
              "76.85000000000002"
            ]
          },
          "metadata": {},
          "execution_count": 10
        }
      ]
    },
    {
      "cell_type": "code",
      "source": [
        "CandK ('C', 76.85)"
      ],
      "metadata": {
        "colab": {
          "base_uri": "https://localhost:8080/"
        },
        "id": "t4J9kjdTpbOs",
        "outputId": "3f8f512b-2dfa-4d47-a6e5-1f0b29790fc7"
      },
      "execution_count": null,
      "outputs": [
        {
          "output_type": "execute_result",
          "data": {
            "text/plain": [
              "350.0"
            ]
          },
          "metadata": {},
          "execution_count": 9
        }
      ]
    },
    {
      "cell_type": "markdown",
      "source": [
        "# SOAL 2"
      ],
      "metadata": {
        "id": "jIStbRffnJ-M"
      }
    },
    {
      "cell_type": "code",
      "source": [
        "# Buatlah sebuah function yang dapat mengkonversi suhu ke fahrenheit.\n",
        "# Tambahkan parameter untuk memastikan bahwa argumen yang dimasukkan adalah celcius atau kelvin.\n",
        "# Panggil function yang pertama jika diperlukan.\n",
        "\n",
        "'''satuan: satuan awal yang akan dikonversi menjadi Fahrenheit'''\n",
        "\n",
        "def toF (satuan,suhu):\n",
        "  if satuan == 'C':           \n",
        "    suhu_b = (suhu * 9/5 ) + 32 \n",
        "    '''jika satuan adalah Celcious, rumus yg dipakai adalah C*9/5 +32'''\n",
        "  if satuan == 'K':\n",
        "    suhu_b = ( (suhu- 273.15) * 9/5) + 32\n",
        "    '''jika satuan adalah Kelvin, rumus yg dipakai adalah ((K-273.15)*9/5) +32'''\n",
        "  return (suhu_b)\n",
        "toF ('K', 360)"
      ],
      "metadata": {
        "colab": {
          "base_uri": "https://localhost:8080/"
        },
        "id": "p8yoHEqZmhCk",
        "outputId": "f972393f-7770-415e-e4d4-fdc28f2a69d4"
      },
      "execution_count": null,
      "outputs": [
        {
          "output_type": "execute_result",
          "data": {
            "text/plain": [
              "188.33000000000004"
            ]
          },
          "metadata": {},
          "execution_count": 4
        }
      ]
    },
    {
      "cell_type": "code",
      "source": [
        "toF ('C', 86.85)"
      ],
      "metadata": {
        "colab": {
          "base_uri": "https://localhost:8080/"
        },
        "id": "iYTZyMwap0Ra",
        "outputId": "a2a096a2-9ada-4f44-85ff-8087c1ea90fe"
      },
      "execution_count": null,
      "outputs": [
        {
          "output_type": "execute_result",
          "data": {
            "text/plain": [
              "188.32999999999998"
            ]
          },
          "metadata": {},
          "execution_count": 5
        }
      ]
    },
    {
      "cell_type": "markdown",
      "source": [
        "# SOAL 3"
      ],
      "metadata": {
        "id": "2G7dQeSQsEvm"
      }
    },
    {
      "cell_type": "code",
      "source": [
        "# Buatlah sebuah function yang dapat mengkonversi suhu dari fahrenheit. \n",
        "# Berikan argumen untuk memastikan bahwa outputnya dalah celcius atau kelvin.\n",
        "\n",
        "'''satuan: satuan akhir hasil konversi dari Fahrenheit'''\n",
        "'''suhu: nilai suhu dalam fahrenheit'''\n",
        "\n",
        "def fromF (satuan, suhu):\n",
        "  if satuan == 'C':           \n",
        "    suhu_c = (suhu -32 ) * 5/9 \n",
        "    '''jika satuan adalah Celcious, rumus yg dipakai adalah (F-32)*5/9'''\n",
        "  if satuan == 'K':\n",
        "    suhu_c = ( (suhu- 32) * 5/9) + 273.15\n",
        "    '''jika satuan adalah Kelvin, rumus yg dipakai adalah [(F-32)*5/9]+273.15'''\n",
        "  return (suhu_c)\n",
        "\n",
        "fromF ('C',190)"
      ],
      "metadata": {
        "colab": {
          "base_uri": "https://localhost:8080/"
        },
        "id": "_Hyrj5icsHqj",
        "outputId": "1fa6d2c3-f4b1-4ed8-d203-bbd3fe2f7100"
      },
      "execution_count": null,
      "outputs": [
        {
          "output_type": "execute_result",
          "data": {
            "text/plain": [
              "87.77777777777777"
            ]
          },
          "metadata": {},
          "execution_count": 6
        }
      ]
    },
    {
      "cell_type": "code",
      "source": [
        "fromF ('K',190)"
      ],
      "metadata": {
        "colab": {
          "base_uri": "https://localhost:8080/"
        },
        "id": "HkpNO630tdck",
        "outputId": "63edfbac-f4b6-4d57-ea37-79550b39b18e"
      },
      "execution_count": null,
      "outputs": [
        {
          "output_type": "execute_result",
          "data": {
            "text/plain": [
              "360.92777777777775"
            ]
          },
          "metadata": {},
          "execution_count": 7
        }
      ]
    }
  ]
}