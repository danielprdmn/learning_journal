{
  "cells": [
    {
      "cell_type": "markdown",
      "metadata": {
        "id": "Id3sH6mLnAFJ"
      },
      "source": [
        "# SOAL 1"
      ]
    },
    {
      "cell_type": "code",
      "execution_count": 11,
      "metadata": {
        "colab": {
          "base_uri": "https://localhost:8080/"
        },
        "id": "AiOVRSGriYi3",
        "outputId": "4e91f411-0b26-4c38-c5f4-9ac3f0289d95"
      },
      "outputs": [
        {
          "data": {
            "text/plain": [
              "76.85000000000002"
            ]
          },
          "execution_count": 11,
          "metadata": {},
          "output_type": "execute_result"
        }
      ],
      "source": [
        "# Buatlah sebuah function yang dapat mengkonversi suhu dari kelvin ke celcius, dan celcius ke kelvin.\n",
        "\n",
        "'''satuan: satuan awal yang akan dikonversi'''\n",
        "'''satuan dapat ditulis sebagai 'C' (Celcious) atau 'K' (Kelvin)'''\n",
        "\n",
        "def CandK (satuan, suhu):\n",
        "  if satuan == 'C':           \n",
        "    suhu_a = suhu + 273.15\n",
        "    '''jika satuan adalah Celcious, rumus yg dipakai adalah C+273.15 '''\n",
        "  elif satuan == 'K':\n",
        "    suhu_a = suhu - 273.15\n",
        "    '''jika satuan adalah Kelvin, rumus yg dipakai adalah K-273.15 '''\n",
        "  return (suhu_a)\n",
        "\n",
        "CandK ('K', 350)"
      ]
    },
    {
      "cell_type": "code",
      "execution_count": 12,
      "metadata": {
        "colab": {
          "base_uri": "https://localhost:8080/"
        },
        "id": "t4J9kjdTpbOs",
        "outputId": "3f8f512b-2dfa-4d47-a6e5-1f0b29790fc7"
      },
      "outputs": [
        {
          "data": {
            "text/plain": [
              "350.0"
            ]
          },
          "execution_count": 12,
          "metadata": {},
          "output_type": "execute_result"
        }
      ],
      "source": [
        "CandK ('C', 76.85)"
      ]
    },
    {
      "cell_type": "markdown",
      "metadata": {
        "id": "jIStbRffnJ-M"
      },
      "source": [
        "# SOAL 2"
      ]
    },
    {
      "cell_type": "code",
      "execution_count": 13,
      "metadata": {
        "colab": {
          "base_uri": "https://localhost:8080/"
        },
        "id": "p8yoHEqZmhCk",
        "outputId": "f972393f-7770-415e-e4d4-fdc28f2a69d4"
      },
      "outputs": [
        {
          "data": {
            "text/plain": [
              "188.33000000000004"
            ]
          },
          "execution_count": 13,
          "metadata": {},
          "output_type": "execute_result"
        }
      ],
      "source": [
        "# Buatlah sebuah function yang dapat mengkonversi suhu ke fahrenheit.\n",
        "# Tambahkan parameter untuk memastikan bahwa argumen yang dimasukkan adalah celcius atau kelvin.\n",
        "# Panggil function yang pertama jika diperlukan.\n",
        "\n",
        "'''satuan: satuan awal yang akan dikonversi menjadi Fahrenheit'''\n",
        "\n",
        "def toF (satuan,suhu):\n",
        "  if satuan == 'C':           \n",
        "    suhu_b = (suhu * 9/5 ) + 32 \n",
        "    '''jika satuan adalah Celcious, rumus yg dipakai adalah C*9/5 +32'''\n",
        "  elif satuan == 'K':\n",
        "    suhu_b = ( (suhu- 273.15) * 9/5) + 32\n",
        "    '''jika satuan adalah Kelvin, rumus yg dipakai adalah ((K-273.15)*9/5) +32'''\n",
        "  return (suhu_b)\n",
        "  \n",
        "toF ('K', 360)"
      ]
    },
    {
      "cell_type": "code",
      "execution_count": 14,
      "metadata": {
        "colab": {
          "base_uri": "https://localhost:8080/"
        },
        "id": "iYTZyMwap0Ra",
        "outputId": "a2a096a2-9ada-4f44-85ff-8087c1ea90fe"
      },
      "outputs": [
        {
          "data": {
            "text/plain": [
              "188.32999999999998"
            ]
          },
          "execution_count": 14,
          "metadata": {},
          "output_type": "execute_result"
        }
      ],
      "source": [
        "toF ('C', 86.85)"
      ]
    },
    {
      "cell_type": "markdown",
      "metadata": {
        "id": "2G7dQeSQsEvm"
      },
      "source": [
        "# SOAL 3"
      ]
    },
    {
      "cell_type": "code",
      "execution_count": 15,
      "metadata": {
        "colab": {
          "base_uri": "https://localhost:8080/"
        },
        "id": "_Hyrj5icsHqj",
        "outputId": "1fa6d2c3-f4b1-4ed8-d203-bbd3fe2f7100"
      },
      "outputs": [
        {
          "data": {
            "text/plain": [
              "87.77777777777777"
            ]
          },
          "execution_count": 15,
          "metadata": {},
          "output_type": "execute_result"
        }
      ],
      "source": [
        "# Buatlah sebuah function yang dapat mengkonversi suhu dari fahrenheit. \n",
        "# Berikan argumen untuk memastikan bahwa outputnya dalah celcius atau kelvin.\n",
        "\n",
        "'''satuan: satuan akhir hasil konversi dari Fahrenheit'''\n",
        "'''suhu: nilai suhu dalam fahrenheit'''\n",
        "\n",
        "def fromF (satuan, suhu):\n",
        "  if satuan == 'C':           \n",
        "    suhu_c = (suhu -32 ) * 5/9 \n",
        "    '''jika satuan adalah Celcious, rumus yg dipakai adalah (F-32)*5/9'''\n",
        "  elif satuan == 'K':\n",
        "    suhu_c = ( (suhu- 32) * 5/9) + 273.15\n",
        "    '''jika satuan adalah Kelvin, rumus yg dipakai adalah [(F-32)*5/9]+273.15'''\n",
        "  return (suhu_c)\n",
        "\n",
        "fromF ('C',190)"
      ]
    },
    {
      "cell_type": "code",
      "execution_count": 16,
      "metadata": {
        "colab": {
          "base_uri": "https://localhost:8080/"
        },
        "id": "HkpNO630tdck",
        "outputId": "63edfbac-f4b6-4d57-ea37-79550b39b18e"
      },
      "outputs": [
        {
          "data": {
            "text/plain": [
              "360.92777777777775"
            ]
          },
          "execution_count": 16,
          "metadata": {},
          "output_type": "execute_result"
        }
      ],
      "source": [
        "fromF ('K',190)"
      ]
    }
  ],
  "metadata": {
    "colab": {
      "collapsed_sections": [],
      "name": "h8dsft_converter.ipynb",
      "provenance": []
    },
    "kernelspec": {
      "display_name": "Python 3",
      "name": "python3"
    },
    "language_info": {
      "codemirror_mode": {
        "name": "ipython",
        "version": 3
      },
      "file_extension": ".py",
      "mimetype": "text/x-python",
      "name": "python",
      "nbconvert_exporter": "python",
      "pygments_lexer": "ipython3",
      "version": "3.9.7"
    }
  },
  "nbformat": 4,
  "nbformat_minor": 0
}
