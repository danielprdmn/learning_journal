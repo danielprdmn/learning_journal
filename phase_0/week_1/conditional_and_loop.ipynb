{
  "nbformat": 4,
  "nbformat_minor": 0,
  "metadata": {
    "colab": {
      "name": "conditional_and_loop.ipynb",
      "provenance": [],
      "collapsed_sections": [
        "QqUKgDx_hEi6"
      ]
    },
    "kernelspec": {
      "name": "python3",
      "display_name": "Python 3"
    },
    "language_info": {
      "name": "python"
    }
  },
  "cells": [
    {
      "cell_type": "markdown",
      "source": [
        "## Conditional"
      ],
      "metadata": {
        "id": "IYo5sNUuVP0R"
      }
    },
    {
      "cell_type": "code",
      "source": [
        "angka=29\n",
        "print(f'{angka} lebih dari 30')"
      ],
      "metadata": {
        "colab": {
          "base_uri": "https://localhost:8080/"
        },
        "id": "CdXnCJ95VeA-",
        "outputId": "ab52dd81-589c-45bb-e756-56685a588e0d"
      },
      "execution_count": null,
      "outputs": [
        {
          "output_type": "stream",
          "name": "stdout",
          "text": [
            "29 lebih dari 30\n"
          ]
        }
      ]
    },
    {
      "cell_type": "code",
      "source": [
        "True"
      ],
      "metadata": {
        "colab": {
          "base_uri": "https://localhost:8080/"
        },
        "id": "Bw1CouhAX-MR",
        "outputId": "c0d75362-5689-4d20-84b3-7882765e3c46"
      },
      "execution_count": null,
      "outputs": [
        {
          "output_type": "execute_result",
          "data": {
            "text/plain": [
              "True"
            ]
          },
          "metadata": {},
          "execution_count": 7
        }
      ]
    },
    {
      "cell_type": "code",
      "source": [
        "False"
      ],
      "metadata": {
        "colab": {
          "base_uri": "https://localhost:8080/"
        },
        "id": "zhYtMgk2X_ll",
        "outputId": "958102ab-76f2-45cc-ecf4-ab8bae6e4092"
      },
      "execution_count": null,
      "outputs": [
        {
          "output_type": "execute_result",
          "data": {
            "text/plain": [
              "False"
            ]
          },
          "metadata": {},
          "execution_count": 8
        }
      ]
    },
    {
      "cell_type": "code",
      "source": [
        "angka=35\n",
        "if angka > 30:\n",
        "  print(f'{angka} lebih besar dari 30')\n",
        "else:\n",
        "  print(f'{angka} lebih kecil dari 30')"
      ],
      "metadata": {
        "colab": {
          "base_uri": "https://localhost:8080/"
        },
        "id": "duLcoBq-dAbP",
        "outputId": "a0da8d44-998a-4c11-fa21-f196d9b4b510"
      },
      "execution_count": null,
      "outputs": [
        {
          "output_type": "stream",
          "name": "stdout",
          "text": [
            "35 lebih besar dari 30\n"
          ]
        }
      ]
    },
    {
      "cell_type": "code",
      "source": [
        "angka=35\n",
        "if angka > 30:\n",
        "  print(f'{angka} lebih besar dari 30')\n",
        "else:\n",
        "  print(f'{angka} lebih kecil dari 30')\n"
      ],
      "metadata": {
        "colab": {
          "base_uri": "https://localhost:8080/"
        },
        "id": "RmcCKolKYB79",
        "outputId": "117d153b-1b5a-42c2-84f1-e9242793637d"
      },
      "execution_count": null,
      "outputs": [
        {
          "output_type": "stream",
          "name": "stdout",
          "text": [
            "15 adalah ganjil\n"
          ]
        }
      ]
    },
    {
      "cell_type": "code",
      "source": [
        "angka=17\n",
        "if angka%2 == 0:\n",
        "  print(f'{angka} adalah genap')\n",
        "else:\n",
        "  print(f'{angka} adalah ganjil')\n"
      ],
      "metadata": {
        "colab": {
          "base_uri": "https://localhost:8080/"
        },
        "outputId": "8dcb80a7-7faa-49c7-9aaa-3e649ff75545",
        "id": "mvVXkyOMbjuk"
      },
      "execution_count": null,
      "outputs": [
        {
          "output_type": "stream",
          "name": "stdout",
          "text": [
            "17 adalah ganjil\n"
          ]
        }
      ]
    },
    {
      "cell_type": "code",
      "source": [
        "bahasa_pemograman= ('python', 'java_script', 'golang')\n",
        "bahasa='html'\n",
        "\n",
        "if bahasa in bahasa_pemograman:\n",
        "  print(f'{bahasa} ada di dalam bahasa_pemograman')\n",
        "else:\n",
        "  print(f'{bahasa} tidak ada di dalam bahasa_pemograman')\n"
      ],
      "metadata": {
        "colab": {
          "base_uri": "https://localhost:8080/"
        },
        "id": "odZRkC-_cAVp",
        "outputId": "bd2cddef-feca-4919-f2d1-b87c8cb6d628"
      },
      "execution_count": null,
      "outputs": [
        {
          "output_type": "stream",
          "name": "stdout",
          "text": [
            "html tidak ada di dalam bahasa_pemograman\n"
          ]
        }
      ]
    },
    {
      "cell_type": "code",
      "source": [
        "angka = 30\n",
        "if angka > 30:\n",
        "  print(f'{angka} lebih besar dari 30')\n",
        "elif angka == 30: #jangan lupa tanda :\n",
        "  print(f'{angka} sama dengan 30')  # elif bisa dipakai untuk kondisi lebih dari satu\n",
        "else:\n",
        "  print(f'{angka} lebih kecil dari 30')  # boleh ga ada\n",
        "\n",
        "# identation penting, if elif else rata, print menjorok dan rata"
      ],
      "metadata": {
        "colab": {
          "base_uri": "https://localhost:8080/"
        },
        "id": "Sfa7hnQBdfR7",
        "outputId": "1ba9d47a-af8f-44a0-f474-628b5ce0bf13"
      },
      "execution_count": null,
      "outputs": [
        {
          "output_type": "stream",
          "name": "stdout",
          "text": [
            "30 sama dengan 30\n"
          ]
        }
      ]
    },
    {
      "cell_type": "code",
      "source": [
        "biodata = {'nama':'Afif', 'pekerjaan':'Data Science',  'usia':20}\n",
        "'usia' in biodata #cek key bisa langsung"
      ],
      "metadata": {
        "colab": {
          "base_uri": "https://localhost:8080/"
        },
        "id": "xwFZHz3dfFYc",
        "outputId": "bc58c568-ab3c-4bc5-861e-ed119915a317"
      },
      "execution_count": null,
      "outputs": [
        {
          "output_type": "execute_result",
          "data": {
            "text/plain": [
              "True"
            ]
          },
          "metadata": {},
          "execution_count": 29
        }
      ]
    },
    {
      "cell_type": "code",
      "source": [
        "'Afif' in biodata.values() #cek value ada tambahan perintah"
      ],
      "metadata": {
        "colab": {
          "base_uri": "https://localhost:8080/"
        },
        "id": "nCcQllQ3fmJm",
        "outputId": "b9745be2-9bc8-4dc1-827f-0fdf7d8e2b90"
      },
      "execution_count": null,
      "outputs": [
        {
          "output_type": "execute_result",
          "data": {
            "text/plain": [
              "True"
            ]
          },
          "metadata": {},
          "execution_count": 30
        }
      ]
    },
    {
      "cell_type": "markdown",
      "source": [
        "### Nested IF"
      ],
      "metadata": {
        "id": "QqUKgDx_hEi6"
      }
    },
    {
      "cell_type": "code",
      "source": [
        "angka=40\n",
        "if angka%2 == 0:\n",
        "  print(f'{angka} adalah genap')\n",
        "  if angka > 30:\n",
        "    print(f'{angka} lebih besar dari 30')\n",
        "  else:\n",
        "    print(f'{angka} lebih kecil dari 30')\n",
        "else:\n",
        "  print(f'{angka} adalah ganjil')\n"
      ],
      "metadata": {
        "colab": {
          "base_uri": "https://localhost:8080/"
        },
        "outputId": "c74493a8-1d57-435a-ec47-cbca166cf6f0",
        "id": "1sIqTU0_h4Uz"
      },
      "execution_count": null,
      "outputs": [
        {
          "output_type": "stream",
          "name": "stdout",
          "text": [
            "40 adalah genap\n",
            "40 lebih besar dari 30\n"
          ]
        }
      ]
    },
    {
      "cell_type": "code",
      "source": [
        "nilai = 75\n",
        "if 0 <= nilai <= 100:\n",
        "  if nilai >=85:\n",
        "    print(f'{nilai} mendapatkan A')\n",
        "  elif nilai >= 70:\n",
        "    print(f'{nilai} mendapatkan B')\n",
        "  elif nilai >= 50:\n",
        "    print(f'{nilai} mendapatkan C')\n",
        "  elif nilai >= 25:\n",
        "    print(f'{nilai} mendapatkan D')\n",
        "  else:\n",
        "    print(f'{nilai} mendapatkan E')\n",
        "else:\n",
        "  print('nilai tidak valid')"
      ],
      "metadata": {
        "colab": {
          "base_uri": "https://localhost:8080/"
        },
        "id": "D16SEj0flebu",
        "outputId": "9bd71782-0882-4c1b-bb31-dabb62cee07c"
      },
      "execution_count": null,
      "outputs": [
        {
          "output_type": "stream",
          "name": "stdout",
          "text": [
            "75 mendapatkan B\n"
          ]
        }
      ]
    },
    {
      "cell_type": "markdown",
      "source": [
        "## Looping"
      ],
      "metadata": {
        "id": "yne2tA6WnTu0"
      }
    },
    {
      "cell_type": "code",
      "source": [
        "i = 0\n",
        "while i < 5: # loop berhenti sebelum nilai i 5\n",
        "  print(f'i={i}, dalam while loop')\n",
        "  i = i+1 # bisa juga dimuat sebagai i +=1 (perintah yang sama)"
      ],
      "metadata": {
        "colab": {
          "base_uri": "https://localhost:8080/"
        },
        "id": "Xue-GfM7nXJQ",
        "outputId": "6be7e279-ddfc-4c3b-fb99-82893b8a9652"
      },
      "execution_count": null,
      "outputs": [
        {
          "output_type": "stream",
          "name": "stdout",
          "text": [
            "i=0, dalam while loop\n",
            "i=1, dalam while loop\n",
            "i=2, dalam while loop\n",
            "i=3, dalam while loop\n",
            "i=4, dalam while loop\n"
          ]
        }
      ]
    },
    {
      "cell_type": "code",
      "source": [
        "j = 1\n",
        "while j <= 10:\n",
        "  print(f'7 x {j} = {7*j}')\n",
        "  j = j+1"
      ],
      "metadata": {
        "colab": {
          "base_uri": "https://localhost:8080/"
        },
        "id": "KTLgtcg5qMCO",
        "outputId": "a51f29a2-d111-415c-ff5c-59375e059cb5"
      },
      "execution_count": null,
      "outputs": [
        {
          "output_type": "stream",
          "name": "stdout",
          "text": [
            "7 x 1 = 7\n",
            "7 x 2 = 14\n",
            "7 x 3 = 21\n",
            "7 x 4 = 28\n",
            "7 x 5 = 35\n",
            "7 x 6 = 42\n",
            "7 x 7 = 49\n",
            "7 x 8 = 56\n",
            "7 x 9 = 63\n",
            "7 x 10 = 70\n"
          ]
        }
      ]
    },
    {
      "cell_type": "markdown",
      "source": [
        "### Nested Loop (tabel perkalian)"
      ],
      "metadata": {
        "id": "xGuaV_OzrQJX"
      }
    },
    {
      "cell_type": "code",
      "source": [
        "# membuat tabel perkalian m x n\n",
        "\n",
        "m = 1 # nilai awal yang di-loop\n",
        "n = 1\n",
        "\n",
        "while m <= 10:    # loop sampai m nilai 10\n",
        "  while n <= 10: # syarat n di setiap tabel, n dulu yang di-loop\n",
        "   print(f'{m} x {n} = {m*n}')\n",
        "   n += 1 # loop berjalan terus sampai syarat n=10\n",
        "  print('*'*50) # memberi batas ke tabel berikutnya\n",
        "  m += 1   # buat tabel berikut, m naiik satu, indent 1 tab dari perintah utama (while m <= 10)\n",
        "  n = 1   # buat tabel berikut, n mulai dari 1 lagi"
      ],
      "metadata": {
        "colab": {
          "base_uri": "https://localhost:8080/"
        },
        "id": "2dvbySYrrVQM",
        "outputId": "93fc77de-dc0c-4ad6-a19e-c231aac985d8"
      },
      "execution_count": null,
      "outputs": [
        {
          "output_type": "stream",
          "name": "stdout",
          "text": [
            "1 x 1 = 1\n",
            "1 x 2 = 2\n",
            "1 x 3 = 3\n",
            "1 x 4 = 4\n",
            "1 x 5 = 5\n",
            "1 x 6 = 6\n",
            "1 x 7 = 7\n",
            "1 x 8 = 8\n",
            "1 x 9 = 9\n",
            "1 x 10 = 10\n",
            "**************************************************\n",
            "2 x 1 = 2\n",
            "2 x 2 = 4\n",
            "2 x 3 = 6\n",
            "2 x 4 = 8\n",
            "2 x 5 = 10\n",
            "2 x 6 = 12\n",
            "2 x 7 = 14\n",
            "2 x 8 = 16\n",
            "2 x 9 = 18\n",
            "2 x 10 = 20\n",
            "**************************************************\n",
            "3 x 1 = 3\n",
            "3 x 2 = 6\n",
            "3 x 3 = 9\n",
            "3 x 4 = 12\n",
            "3 x 5 = 15\n",
            "3 x 6 = 18\n",
            "3 x 7 = 21\n",
            "3 x 8 = 24\n",
            "3 x 9 = 27\n",
            "3 x 10 = 30\n",
            "**************************************************\n",
            "4 x 1 = 4\n",
            "4 x 2 = 8\n",
            "4 x 3 = 12\n",
            "4 x 4 = 16\n",
            "4 x 5 = 20\n",
            "4 x 6 = 24\n",
            "4 x 7 = 28\n",
            "4 x 8 = 32\n",
            "4 x 9 = 36\n",
            "4 x 10 = 40\n",
            "**************************************************\n",
            "5 x 1 = 5\n",
            "5 x 2 = 10\n",
            "5 x 3 = 15\n",
            "5 x 4 = 20\n",
            "5 x 5 = 25\n",
            "5 x 6 = 30\n",
            "5 x 7 = 35\n",
            "5 x 8 = 40\n",
            "5 x 9 = 45\n",
            "5 x 10 = 50\n",
            "**************************************************\n",
            "6 x 1 = 6\n",
            "6 x 2 = 12\n",
            "6 x 3 = 18\n",
            "6 x 4 = 24\n",
            "6 x 5 = 30\n",
            "6 x 6 = 36\n",
            "6 x 7 = 42\n",
            "6 x 8 = 48\n",
            "6 x 9 = 54\n",
            "6 x 10 = 60\n",
            "**************************************************\n",
            "7 x 1 = 7\n",
            "7 x 2 = 14\n",
            "7 x 3 = 21\n",
            "7 x 4 = 28\n",
            "7 x 5 = 35\n",
            "7 x 6 = 42\n",
            "7 x 7 = 49\n",
            "7 x 8 = 56\n",
            "7 x 9 = 63\n",
            "7 x 10 = 70\n",
            "**************************************************\n",
            "8 x 1 = 8\n",
            "8 x 2 = 16\n",
            "8 x 3 = 24\n",
            "8 x 4 = 32\n",
            "8 x 5 = 40\n",
            "8 x 6 = 48\n",
            "8 x 7 = 56\n",
            "8 x 8 = 64\n",
            "8 x 9 = 72\n",
            "8 x 10 = 80\n",
            "**************************************************\n",
            "9 x 1 = 9\n",
            "9 x 2 = 18\n",
            "9 x 3 = 27\n",
            "9 x 4 = 36\n",
            "9 x 5 = 45\n",
            "9 x 6 = 54\n",
            "9 x 7 = 63\n",
            "9 x 8 = 72\n",
            "9 x 9 = 81\n",
            "9 x 10 = 90\n",
            "**************************************************\n",
            "10 x 1 = 10\n",
            "10 x 2 = 20\n",
            "10 x 3 = 30\n",
            "10 x 4 = 40\n",
            "10 x 5 = 50\n",
            "10 x 6 = 60\n",
            "10 x 7 = 70\n",
            "10 x 8 = 80\n",
            "10 x 9 = 90\n",
            "10 x 10 = 100\n",
            "**************************************************\n"
          ]
        }
      ]
    },
    {
      "cell_type": "markdown",
      "source": [
        "### keyword break"
      ],
      "metadata": {
        "id": "1F4RIcvvURVt"
      }
    },
    {
      "cell_type": "code",
      "source": [
        "# memberhenyikan loop sebelum waktunya\n",
        "\n",
        "j = 1\n",
        "while j <= 10:\n",
        "  print(f'8 x {j} = {8*j}')\n",
        "  j = j+1\n",
        "  if j ==5:\n",
        "    break   # ketika j=5, perintah berhenti, tidak kembali ke perintah perkalian selanjutnya"
      ],
      "metadata": {
        "colab": {
          "base_uri": "https://localhost:8080/"
        },
        "id": "eZb2H1UIUWVd",
        "outputId": "3c38ebec-5ba3-4cea-e0e5-d07090da03f8"
      },
      "execution_count": null,
      "outputs": [
        {
          "output_type": "stream",
          "name": "stdout",
          "text": [
            "8 x 1 = 8\n",
            "8 x 2 = 16\n",
            "8 x 3 = 24\n",
            "8 x 4 = 32\n"
          ]
        }
      ]
    },
    {
      "cell_type": "code",
      "source": [
        "pesanan = []\n",
        "while True:\n",
        "  pesan = input ('Masukkan pesanan anda : ')\n",
        "  if pesan == 'cukup': # ketika diisi cukup, loop berhenti masuk ke perintah berikutnya\n",
        "    break\n",
        "  pesanan.append(pesan)\n",
        "print(pesanan) # menampilkan seluruh pesanan"
      ],
      "metadata": {
        "id": "cZsKYjnIV0DR",
        "colab": {
          "base_uri": "https://localhost:8080/"
        },
        "outputId": "c31700ab-e18c-4d42-fe9e-427aa013c49e"
      },
      "execution_count": 25,
      "outputs": [
        {
          "output_type": "stream",
          "name": "stdout",
          "text": [
            "Masukkan pesanan anda : ayam bakar\n",
            "Masukkan pesanan anda : nasi goreng\n",
            "Masukkan pesanan anda : i fu mie\n",
            "Masukkan pesanan anda : es teh manis\n",
            "Masukkan pesanan anda : cukup\n",
            "['ayam bakar', 'nasi goreng', 'i fu mie', 'es teh manis']\n"
          ]
        }
      ]
    },
    {
      "cell_type": "markdown",
      "source": [
        "### continue"
      ],
      "metadata": {
        "id": "bv8GS3_fYg0f"
      }
    },
    {
      "cell_type": "code",
      "source": [
        "j = 0\n",
        "while j <= 9:\n",
        "  j = j+1\n",
        "  if j ==5 :  # perkalian 5 dihilangkan posisi perintah sangat penting\n",
        "    continue\n",
        "  print(f'7 x {j} = {7*j}')"
      ],
      "metadata": {
        "colab": {
          "base_uri": "https://localhost:8080/"
        },
        "id": "quC3fE4IYlPt",
        "outputId": "c7079453-101c-4486-82b7-7b782f575fd0"
      },
      "execution_count": 29,
      "outputs": [
        {
          "output_type": "stream",
          "name": "stdout",
          "text": [
            "7 x 1 = 7\n",
            "7 x 2 = 14\n",
            "7 x 3 = 21\n",
            "7 x 4 = 28\n",
            "7 x 6 = 42\n",
            "7 x 7 = 49\n",
            "7 x 8 = 56\n",
            "7 x 9 = 63\n",
            "7 x 10 = 70\n"
          ]
        }
      ]
    },
    {
      "cell_type": "markdown",
      "source": [
        "### for loop"
      ],
      "metadata": {
        "id": "GVdvNRg5aH9T"
      }
    },
    {
      "cell_type": "code",
      "source": [
        "buah = ('pepaya', 'mangga', 'pisang', 'jambu')\n",
        "for b in buah : # for dan in berpasangan\n",
        "  print (f'{b} adalah item dari list buah')"
      ],
      "metadata": {
        "colab": {
          "base_uri": "https://localhost:8080/"
        },
        "id": "Kh0endHuaSWa",
        "outputId": "2b9eef5f-b07f-47fd-dce4-7937cfd6b48a"
      },
      "execution_count": 33,
      "outputs": [
        {
          "output_type": "stream",
          "name": "stdout",
          "text": [
            "pepaya adalah item dari list buah\n",
            "mangga adalah item dari list buah\n",
            "pisang adalah item dari list buah\n",
            "jambu adalah item dari list buah\n"
          ]
        }
      ]
    },
    {
      "cell_type": "code",
      "source": [
        "# sebagai while\n",
        "\n",
        "i=0\n",
        "buah = ('pepaya', 'mangga', 'pisang', 'jambu', 'melon', 'apel')\n",
        "while i < len(buah) :\n",
        "  print(f'{buah[i]} adalah item dari list buah') \n",
        "  i += 1"
      ],
      "metadata": {
        "colab": {
          "base_uri": "https://localhost:8080/"
        },
        "id": "_DC6X5Uhb8bh",
        "outputId": "aa487d8d-3be3-4c98-d45d-326071e8e4ad"
      },
      "execution_count": 45,
      "outputs": [
        {
          "output_type": "stream",
          "name": "stdout",
          "text": [
            "pepaya adalah item dari list buah\n",
            "mangga adalah item dari list buah\n",
            "pisang adalah item dari list buah\n",
            "jambu adalah item dari list buah\n",
            "melon adalah item dari list buah\n",
            "apel adalah item dari list buah\n"
          ]
        }
      ]
    },
    {
      "cell_type": "code",
      "source": [
        "sayur = ('kangkung', 'singkong', 'pare', 'tomat')\n",
        "for k in range(len(sayur)) :\n",
        "  print (f'{sayur[k]} adalah item dari list sayur')"
      ],
      "metadata": {
        "colab": {
          "base_uri": "https://localhost:8080/"
        },
        "id": "pE1fSok9dfLS",
        "outputId": "1cfadea8-3c5a-4e47-b107-07d025e284e0"
      },
      "execution_count": 50,
      "outputs": [
        {
          "output_type": "stream",
          "name": "stdout",
          "text": [
            "kangkung adalah item dari list sayur\n",
            "singkong adalah item dari list sayur\n",
            "pare adalah item dari list sayur\n",
            "tomat adalah item dari list sayur\n"
          ]
        }
      ]
    },
    {
      "cell_type": "code",
      "source": [
        "# tabel perkalian dengan for loop\n",
        "\n",
        "for i in range(1,11) :\n",
        "  print(f'7 x {i} = {7*i}')"
      ],
      "metadata": {
        "colab": {
          "base_uri": "https://localhost:8080/"
        },
        "id": "z0ejCVq1fGwn",
        "outputId": "e6ae349f-a9f8-4a67-cf45-fb1acb7b73d9"
      },
      "execution_count": 55,
      "outputs": [
        {
          "output_type": "stream",
          "name": "stdout",
          "text": [
            "7 x 1 = 7\n",
            "7 x 2 = 14\n",
            "7 x 3 = 21\n",
            "7 x 4 = 28\n",
            "7 x 5 = 35\n",
            "7 x 6 = 42\n",
            "7 x 7 = 49\n",
            "7 x 8 = 56\n",
            "7 x 9 = 63\n",
            "7 x 10 = 70\n"
          ]
        }
      ]
    },
    {
      "cell_type": "code",
      "source": [
        "for j in range(1,11) :\n",
        "  for i in range(1,11) :\n",
        "    print(f'{j} x {i} = {j*i}')\n",
        "  print('*'*50)"
      ],
      "metadata": {
        "colab": {
          "base_uri": "https://localhost:8080/"
        },
        "id": "wXfN5_DbgL4W",
        "outputId": "dd0741f3-94d8-420e-f191-a692e8bddf17"
      },
      "execution_count": 57,
      "outputs": [
        {
          "output_type": "stream",
          "name": "stdout",
          "text": [
            "1 x 1 = 1\n",
            "1 x 2 = 2\n",
            "1 x 3 = 3\n",
            "1 x 4 = 4\n",
            "1 x 5 = 5\n",
            "1 x 6 = 6\n",
            "1 x 7 = 7\n",
            "1 x 8 = 8\n",
            "1 x 9 = 9\n",
            "1 x 10 = 10\n",
            "**************************************************\n",
            "2 x 1 = 2\n",
            "2 x 2 = 4\n",
            "2 x 3 = 6\n",
            "2 x 4 = 8\n",
            "2 x 5 = 10\n",
            "2 x 6 = 12\n",
            "2 x 7 = 14\n",
            "2 x 8 = 16\n",
            "2 x 9 = 18\n",
            "2 x 10 = 20\n",
            "**************************************************\n",
            "3 x 1 = 3\n",
            "3 x 2 = 6\n",
            "3 x 3 = 9\n",
            "3 x 4 = 12\n",
            "3 x 5 = 15\n",
            "3 x 6 = 18\n",
            "3 x 7 = 21\n",
            "3 x 8 = 24\n",
            "3 x 9 = 27\n",
            "3 x 10 = 30\n",
            "**************************************************\n",
            "4 x 1 = 4\n",
            "4 x 2 = 8\n",
            "4 x 3 = 12\n",
            "4 x 4 = 16\n",
            "4 x 5 = 20\n",
            "4 x 6 = 24\n",
            "4 x 7 = 28\n",
            "4 x 8 = 32\n",
            "4 x 9 = 36\n",
            "4 x 10 = 40\n",
            "**************************************************\n",
            "5 x 1 = 5\n",
            "5 x 2 = 10\n",
            "5 x 3 = 15\n",
            "5 x 4 = 20\n",
            "5 x 5 = 25\n",
            "5 x 6 = 30\n",
            "5 x 7 = 35\n",
            "5 x 8 = 40\n",
            "5 x 9 = 45\n",
            "5 x 10 = 50\n",
            "**************************************************\n",
            "6 x 1 = 6\n",
            "6 x 2 = 12\n",
            "6 x 3 = 18\n",
            "6 x 4 = 24\n",
            "6 x 5 = 30\n",
            "6 x 6 = 36\n",
            "6 x 7 = 42\n",
            "6 x 8 = 48\n",
            "6 x 9 = 54\n",
            "6 x 10 = 60\n",
            "**************************************************\n",
            "7 x 1 = 7\n",
            "7 x 2 = 14\n",
            "7 x 3 = 21\n",
            "7 x 4 = 28\n",
            "7 x 5 = 35\n",
            "7 x 6 = 42\n",
            "7 x 7 = 49\n",
            "7 x 8 = 56\n",
            "7 x 9 = 63\n",
            "7 x 10 = 70\n",
            "**************************************************\n",
            "8 x 1 = 8\n",
            "8 x 2 = 16\n",
            "8 x 3 = 24\n",
            "8 x 4 = 32\n",
            "8 x 5 = 40\n",
            "8 x 6 = 48\n",
            "8 x 7 = 56\n",
            "8 x 8 = 64\n",
            "8 x 9 = 72\n",
            "8 x 10 = 80\n",
            "**************************************************\n",
            "9 x 1 = 9\n",
            "9 x 2 = 18\n",
            "9 x 3 = 27\n",
            "9 x 4 = 36\n",
            "9 x 5 = 45\n",
            "9 x 6 = 54\n",
            "9 x 7 = 63\n",
            "9 x 8 = 72\n",
            "9 x 9 = 81\n",
            "9 x 10 = 90\n",
            "**************************************************\n",
            "10 x 1 = 10\n",
            "10 x 2 = 20\n",
            "10 x 3 = 30\n",
            "10 x 4 = 40\n",
            "10 x 5 = 50\n",
            "10 x 6 = 60\n",
            "10 x 7 = 70\n",
            "10 x 8 = 80\n",
            "10 x 9 = 90\n",
            "10 x 10 = 100\n",
            "**************************************************\n"
          ]
        }
      ]
    },
    {
      "cell_type": "code",
      "source": [
        "for i in range(1,11) :\n",
        "  if i ==5 :\n",
        "    continue\n",
        "  print(f'7 x {i} = {7*i}')"
      ],
      "metadata": {
        "colab": {
          "base_uri": "https://localhost:8080/"
        },
        "id": "aPI0ZLEUg7vS",
        "outputId": "854150b8-ce59-4e30-9952-8eda67523a96"
      },
      "execution_count": 65,
      "outputs": [
        {
          "output_type": "stream",
          "name": "stdout",
          "text": [
            "7 x 1 = 7\n",
            "7 x 2 = 14\n",
            "7 x 3 = 21\n",
            "7 x 4 = 28\n",
            "7 x 6 = 42\n",
            "7 x 7 = 49\n",
            "7 x 8 = 56\n",
            "7 x 9 = 63\n",
            "7 x 10 = 70\n"
          ]
        }
      ]
    },
    {
      "cell_type": "code",
      "source": [
        "for j in range(1,11) :\n",
        "  for i in range(1,11) :\n",
        "    if i == 5 :\n",
        "      continue\n",
        "    print(f'{j} x {i} = {j*i}')\n",
        "  print('*'*50)"
      ],
      "metadata": {
        "colab": {
          "base_uri": "https://localhost:8080/"
        },
        "id": "bGnBrpJTh-AA",
        "outputId": "37d93c94-e83d-45fd-8cba-9ff156a0e9f4"
      },
      "execution_count": 70,
      "outputs": [
        {
          "output_type": "stream",
          "name": "stdout",
          "text": [
            "1 x 1 = 1\n",
            "1 x 2 = 2\n",
            "1 x 3 = 3\n",
            "1 x 4 = 4\n",
            "1 x 6 = 6\n",
            "1 x 7 = 7\n",
            "1 x 8 = 8\n",
            "1 x 9 = 9\n",
            "1 x 10 = 10\n",
            "**************************************************\n",
            "2 x 1 = 2\n",
            "2 x 2 = 4\n",
            "2 x 3 = 6\n",
            "2 x 4 = 8\n",
            "2 x 6 = 12\n",
            "2 x 7 = 14\n",
            "2 x 8 = 16\n",
            "2 x 9 = 18\n",
            "2 x 10 = 20\n",
            "**************************************************\n",
            "3 x 1 = 3\n",
            "3 x 2 = 6\n",
            "3 x 3 = 9\n",
            "3 x 4 = 12\n",
            "3 x 6 = 18\n",
            "3 x 7 = 21\n",
            "3 x 8 = 24\n",
            "3 x 9 = 27\n",
            "3 x 10 = 30\n",
            "**************************************************\n",
            "4 x 1 = 4\n",
            "4 x 2 = 8\n",
            "4 x 3 = 12\n",
            "4 x 4 = 16\n",
            "4 x 6 = 24\n",
            "4 x 7 = 28\n",
            "4 x 8 = 32\n",
            "4 x 9 = 36\n",
            "4 x 10 = 40\n",
            "**************************************************\n",
            "5 x 1 = 5\n",
            "5 x 2 = 10\n",
            "5 x 3 = 15\n",
            "5 x 4 = 20\n",
            "5 x 6 = 30\n",
            "5 x 7 = 35\n",
            "5 x 8 = 40\n",
            "5 x 9 = 45\n",
            "5 x 10 = 50\n",
            "**************************************************\n",
            "6 x 1 = 6\n",
            "6 x 2 = 12\n",
            "6 x 3 = 18\n",
            "6 x 4 = 24\n",
            "6 x 6 = 36\n",
            "6 x 7 = 42\n",
            "6 x 8 = 48\n",
            "6 x 9 = 54\n",
            "6 x 10 = 60\n",
            "**************************************************\n",
            "7 x 1 = 7\n",
            "7 x 2 = 14\n",
            "7 x 3 = 21\n",
            "7 x 4 = 28\n",
            "7 x 6 = 42\n",
            "7 x 7 = 49\n",
            "7 x 8 = 56\n",
            "7 x 9 = 63\n",
            "7 x 10 = 70\n",
            "**************************************************\n",
            "8 x 1 = 8\n",
            "8 x 2 = 16\n",
            "8 x 3 = 24\n",
            "8 x 4 = 32\n",
            "8 x 6 = 48\n",
            "8 x 7 = 56\n",
            "8 x 8 = 64\n",
            "8 x 9 = 72\n",
            "8 x 10 = 80\n",
            "**************************************************\n",
            "9 x 1 = 9\n",
            "9 x 2 = 18\n",
            "9 x 3 = 27\n",
            "9 x 4 = 36\n",
            "9 x 6 = 54\n",
            "9 x 7 = 63\n",
            "9 x 8 = 72\n",
            "9 x 9 = 81\n",
            "9 x 10 = 90\n",
            "**************************************************\n",
            "10 x 1 = 10\n",
            "10 x 2 = 20\n",
            "10 x 3 = 30\n",
            "10 x 4 = 40\n",
            "10 x 6 = 60\n",
            "10 x 7 = 70\n",
            "10 x 8 = 80\n",
            "10 x 9 = 90\n",
            "10 x 10 = 100\n",
            "**************************************************\n"
          ]
        }
      ]
    }
  ]
}