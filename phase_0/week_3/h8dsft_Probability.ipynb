{
  "nbformat": 4,
  "nbformat_minor": 0,
  "metadata": {
    "colab": {
      "name": "h8dsft_Probability.ipynb",
      "provenance": []
    },
    "kernelspec": {
      "name": "python3",
      "display_name": "Python 3"
    },
    "language_info": {
      "name": "python"
    }
  },
  "cells": [
    {
      "cell_type": "markdown",
      "source": [
        "Buatlah sebuah kode untuk mensimulasikan melempar koin sebanyak 50.000 kali dengan assign value random berupa 0 dan 1 untuk kepala atau ekor. Setiap kali koin dilempar, peluang untuk mendapatkan kepala atau ekor adalah 50%."
      ],
      "metadata": {
        "id": "1AZBIor7PP2j"
      }
    },
    {
      "cell_type": "code",
      "execution_count": 2,
      "metadata": {
        "colab": {
          "base_uri": "https://localhost:8080/"
        },
        "id": "0F0dvAgyPKGH",
        "outputId": "bdbabea2-5492-4149-cc83-f83ad2faf07c"
      },
      "outputs": [
        {
          "output_type": "stream",
          "name": "stdout",
          "text": [
            "[25058, 24942]\n"
          ]
        }
      ],
      "source": [
        "%matplotlib inline\n",
        "import random\n",
        "\n",
        "# Create a list with 2 element (for heads and tails)\n",
        "heads_tails = [0,0]\n",
        "\n",
        "# loop through 50000 trials\n",
        "trials = 50000\n",
        "trial = 0\n",
        "while trial < trials:\n",
        "    trial = trial + 1\n",
        "    # Get a random 0 or 1\n",
        "    toss = random.randint(0,1)\n",
        "    # Increment the list element corresponding to the toss result\n",
        "    heads_tails[toss] = heads_tails[toss] + 1\n",
        "\n",
        "print (heads_tails)\n",
        "\n"
      ]
    },
    {
      "cell_type": "code",
      "source": [
        "# Show a pie chart of the results\n",
        "from matplotlib import pyplot as plt\n",
        "plt.figure(figsize=(5,5))\n",
        "plt.pie(heads_tails, labels=['heads', 'tails'])\n",
        "plt.legend()\n",
        "plt.show()"
      ],
      "metadata": {
        "colab": {
          "base_uri": "https://localhost:8080/",
          "height": 303
        },
        "id": "RmSzXfLLPxK_",
        "outputId": "903cca2a-28c5-4704-9b1c-62fcd9f0755f"
      },
      "execution_count": 7,
      "outputs": [
        {
          "output_type": "display_data",
          "data": {
            "text/plain": [
              "<Figure size 360x360 with 1 Axes>"
            ],
            "image/png": "[encoded data removed]"
          },
          "metadata": {}
        }
      ]
    },
    {
      "cell_type": "markdown",
      "source": [
        "Trials sesuai teori. Munculnya head dan tails selama 50.000 percobaan memenuhi perbandingan 50% : 50%"
      ],
      "metadata": {
        "id": "mkPrA4WIRvWV"
      }
    }
  ]
}