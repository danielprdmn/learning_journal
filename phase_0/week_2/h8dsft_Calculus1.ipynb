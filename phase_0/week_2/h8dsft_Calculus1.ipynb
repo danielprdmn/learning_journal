{
 "cells": [
  {
   "cell_type": "markdown",
   "metadata": {},
   "source": [
    "# Turunan Fungsi"
   ]
  },
  {
   "cell_type": "code",
   "execution_count": 22,
   "metadata": {},
   "outputs": [],
   "source": [
    "import sympy as sy\n",
    "import numpy as np\n",
    "\n",
    "import matplotlib.pyplot as plt"
   ]
  },
  {
   "cell_type": "markdown",
   "metadata": {},
   "source": [
    "## Fungsi I"
   ]
  },
  {
   "cell_type": "markdown",
   "metadata": {},
   "source": [
    "### metode simpy"
   ]
  },
  {
   "cell_type": "code",
   "execution_count": 3,
   "metadata": {},
   "outputs": [
    {
     "data": {
      "text/latex": [
       "$\\displaystyle x$"
      ],
      "text/plain": [
       "x"
      ]
     },
     "execution_count": 3,
     "metadata": {},
     "output_type": "execute_result"
    }
   ],
   "source": [
    "x = sy.Symbol('x')\n",
    "x"
   ]
  },
  {
   "cell_type": "code",
   "execution_count": 4,
   "metadata": {},
   "outputs": [
    {
     "data": {
      "text/latex": [
       "$\\displaystyle x^{2} + 2 x + 1$"
      ],
      "text/plain": [
       "x**2 + 2*x + 1"
      ]
     },
     "execution_count": 4,
     "metadata": {},
     "output_type": "execute_result"
    }
   ],
   "source": [
    "f1 = x**2 + 2*x + 1\n",
    "f1"
   ]
  },
  {
   "cell_type": "code",
   "execution_count": 8,
   "metadata": {},
   "outputs": [
    {
     "data": {
      "text/latex": [
       "$\\displaystyle 2 x + 2$"
      ],
      "text/plain": [
       "2*x + 2"
      ]
     },
     "execution_count": 8,
     "metadata": {},
     "output_type": "execute_result"
    }
   ],
   "source": [
    "# cara 1\n",
    "df1 = f1.diff()\n",
    "df1"
   ]
  },
  {
   "cell_type": "code",
   "execution_count": 39,
   "metadata": {},
   "outputs": [
    {
     "data": {
      "text/latex": [
       "$\\displaystyle 2 x + 2$"
      ],
      "text/plain": [
       "2*x + 2"
      ]
     },
     "execution_count": 39,
     "metadata": {},
     "output_type": "execute_result"
    }
   ],
   "source": [
    "# cara 2\n",
    "sy.diff(f1)"
   ]
  },
  {
   "cell_type": "markdown",
   "metadata": {},
   "source": [
    "### metode numerik"
   ]
  },
  {
   "cell_type": "code",
   "execution_count": 23,
   "metadata": {},
   "outputs": [],
   "source": [
    "X = np.linspace(-100,100)\n",
    "Y = X**2 + 2*X + 1"
   ]
  },
  {
   "cell_type": "code",
   "execution_count": 24,
   "metadata": {},
   "outputs": [
    {
     "data": {
      "text/plain": [
       "array([-100.        ,  -95.91836735,  -91.83673469,  -87.75510204,\n",
       "        -83.67346939,  -79.59183673,  -75.51020408,  -71.42857143,\n",
       "        -67.34693878,  -63.26530612,  -59.18367347,  -55.10204082,\n",
       "        -51.02040816,  -46.93877551,  -42.85714286,  -38.7755102 ,\n",
       "        -34.69387755,  -30.6122449 ,  -26.53061224,  -22.44897959,\n",
       "        -18.36734694,  -14.28571429,  -10.20408163,   -6.12244898,\n",
       "         -2.04081633,    2.04081633,    6.12244898,   10.20408163,\n",
       "         14.28571429,   18.36734694,   22.44897959,   26.53061224,\n",
       "         30.6122449 ,   34.69387755,   38.7755102 ,   42.85714286,\n",
       "         46.93877551,   51.02040816,   55.10204082,   59.18367347,\n",
       "         63.26530612,   67.34693878,   71.42857143,   75.51020408,\n",
       "         79.59183673,   83.67346939,   87.75510204,   91.83673469,\n",
       "         95.91836735,  100.        ])"
      ]
     },
     "execution_count": 24,
     "metadata": {},
     "output_type": "execute_result"
    }
   ],
   "source": [
    "X"
   ]
  },
  {
   "cell_type": "code",
   "execution_count": 25,
   "metadata": {},
   "outputs": [
    {
     "data": {
      "text/plain": [
       "array([9.80100000e+03, 9.00949646e+03, 8.25131237e+03, 7.52644773e+03,\n",
       "       6.83490254e+03, 6.17667680e+03, 5.55177051e+03, 4.96018367e+03,\n",
       "       4.40191628e+03, 3.87696835e+03, 3.38533986e+03, 2.92703082e+03,\n",
       "       2.50204123e+03, 2.11037110e+03, 1.75202041e+03, 1.42698917e+03,\n",
       "       1.13527738e+03, 8.76885048e+02, 6.51812162e+02, 4.60058726e+02,\n",
       "       3.01624740e+02, 1.76510204e+02, 8.47151187e+01, 2.62394835e+01,\n",
       "       1.08329863e+00, 9.24656393e+00, 5.07292795e+01, 1.25531445e+02,\n",
       "       2.33653061e+02, 3.75094127e+02, 5.49854644e+02, 7.57934611e+02,\n",
       "       9.99334027e+02, 1.27405289e+03, 1.58209121e+03, 1.92344898e+03,\n",
       "       2.29812620e+03, 2.70612287e+03, 3.14743898e+03, 3.62207455e+03,\n",
       "       4.13002957e+03, 4.67130404e+03, 5.24589796e+03, 5.85381133e+03,\n",
       "       6.49504415e+03, 7.16959642e+03, 7.87746814e+03, 8.61865931e+03,\n",
       "       9.39316993e+03, 1.02010000e+04])"
      ]
     },
     "execution_count": 25,
     "metadata": {},
     "output_type": "execute_result"
    }
   ],
   "source": [
    "Y"
   ]
  },
  {
   "cell_type": "code",
   "execution_count": 26,
   "metadata": {},
   "outputs": [
    {
     "data": {
      "text/plain": [
       "[<matplotlib.lines.Line2D at 0x1b91a9fb580>]"
      ]
     },
     "execution_count": 26,
     "metadata": {},
     "output_type": "execute_result"
    },
    {
     "data": {
      "image/png": "[encoded data removed]",
      "text/plain": [
       "<Figure size 432x288 with 1 Axes>"
      ]
     },
     "metadata": {
      "needs_background": "light"
     },
     "output_type": "display_data"
    }
   ],
   "source": [
    "plt.plot(X,Y)"
   ]
  },
  {
   "cell_type": "code",
   "execution_count": 27,
   "metadata": {},
   "outputs": [],
   "source": [
    "# cara 1\n",
    "df1 = np.diff(Y)/np.diff(X)"
   ]
  },
  {
   "cell_type": "code",
   "execution_count": 28,
   "metadata": {},
   "outputs": [
    {
     "data": {
      "text/plain": [
       "[<matplotlib.lines.Line2D at 0x1b91c169490>]"
      ]
     },
     "execution_count": 28,
     "metadata": {},
     "output_type": "execute_result"
    },
    {
     "data": {
      "image/png": "[encoded data removed]",
      "text/plain": [
       "<Figure size 432x288 with 1 Axes>"
      ]
     },
     "metadata": {
      "needs_background": "light"
     },
     "output_type": "display_data"
    }
   ],
   "source": [
    "plt.plot(X[1:],df1)"
   ]
  },
  {
   "cell_type": "code",
   "execution_count": 30,
   "metadata": {},
   "outputs": [
    {
     "data": {
      "text/plain": [
       "array([-193.91836735, -185.75510204, -177.59183673, -169.42857143,\n",
       "       -161.26530612, -153.10204082, -144.93877551, -136.7755102 ,\n",
       "       -128.6122449 , -120.44897959, -112.28571429, -104.12244898,\n",
       "        -95.95918367,  -87.79591837,  -79.63265306,  -71.46938776,\n",
       "        -63.30612245,  -55.14285714,  -46.97959184,  -38.81632653,\n",
       "        -30.65306122,  -22.48979592,  -14.32653061,   -6.16326531,\n",
       "          2.        ,   10.16326531,   18.32653061,   26.48979592,\n",
       "         34.65306122,   42.81632653,   50.97959184,   59.14285714,\n",
       "         67.30612245,   75.46938776,   83.63265306,   91.79591837,\n",
       "         99.95918367,  108.12244898,  116.28571429,  124.44897959,\n",
       "        132.6122449 ,  140.7755102 ,  148.93877551,  157.10204082,\n",
       "        165.26530612,  173.42857143,  181.59183673,  189.75510204,\n",
       "        197.91836735])"
      ]
     },
     "execution_count": 30,
     "metadata": {},
     "output_type": "execute_result"
    }
   ],
   "source": [
    "df1"
   ]
  },
  {
   "cell_type": "code",
   "execution_count": 31,
   "metadata": {},
   "outputs": [],
   "source": [
    "# cara 2\n",
    "df1a = np.gradient(Y,X)"
   ]
  },
  {
   "cell_type": "code",
   "execution_count": 32,
   "metadata": {},
   "outputs": [
    {
     "data": {
      "text/plain": [
       "[<matplotlib.lines.Line2D at 0x1b91c1db130>]"
      ]
     },
     "execution_count": 32,
     "metadata": {},
     "output_type": "execute_result"
    },
    {
     "data": {
      "image/png": "[encoded data removed]",
      "text/plain": [
       "<Figure size 432x288 with 1 Axes>"
      ]
     },
     "metadata": {
      "needs_background": "light"
     },
     "output_type": "display_data"
    }
   ],
   "source": [
    "plt.plot(X,df1a)"
   ]
  },
  {
   "cell_type": "code",
   "execution_count": 33,
   "metadata": {},
   "outputs": [
    {
     "data": {
      "text/plain": [
       "array([-193.91836735, -189.83673469, -181.67346939, -173.51020408,\n",
       "       -165.34693878, -157.18367347, -149.02040816, -140.85714286,\n",
       "       -132.69387755, -124.53061224, -116.36734694, -108.20408163,\n",
       "       -100.04081633,  -91.87755102,  -83.71428571,  -75.55102041,\n",
       "        -67.3877551 ,  -59.2244898 ,  -51.06122449,  -42.89795918,\n",
       "        -34.73469388,  -26.57142857,  -18.40816327,  -10.24489796,\n",
       "         -2.08163265,    6.08163265,   14.24489796,   22.40816327,\n",
       "         30.57142857,   38.73469388,   46.89795918,   55.06122449,\n",
       "         63.2244898 ,   71.3877551 ,   79.55102041,   87.71428571,\n",
       "         95.87755102,  104.04081633,  112.20408163,  120.36734694,\n",
       "        128.53061224,  136.69387755,  144.85714286,  153.02040816,\n",
       "        161.18367347,  169.34693878,  177.51020408,  185.67346939,\n",
       "        193.83673469,  197.91836735])"
      ]
     },
     "execution_count": 33,
     "metadata": {},
     "output_type": "execute_result"
    }
   ],
   "source": [
    "df1a"
   ]
  },
  {
   "cell_type": "markdown",
   "metadata": {},
   "source": [
    "Bentuk plot tepat. Fungsi kuadrat akan akan menghasilkan turunan fungsi linier yang berupa garis lurus"
   ]
  },
  {
   "cell_type": "markdown",
   "metadata": {},
   "source": [
    "## Fungsi II"
   ]
  },
  {
   "cell_type": "markdown",
   "metadata": {},
   "source": [
    "### metode simpy"
   ]
  },
  {
   "cell_type": "code",
   "execution_count": 34,
   "metadata": {},
   "outputs": [
    {
     "data": {
      "text/latex": [
       "$\\displaystyle 4 x^{3} + 3 x^{2} + 2 x - 1$"
      ],
      "text/plain": [
       "4*x**3 + 3*x**2 + 2*x - 1"
      ]
     },
     "execution_count": 34,
     "metadata": {},
     "output_type": "execute_result"
    }
   ],
   "source": [
    "f2 = 4*x**3 + 3*x**2 + 2*x -1\n",
    "f2"
   ]
  },
  {
   "cell_type": "code",
   "execution_count": 36,
   "metadata": {},
   "outputs": [
    {
     "data": {
      "text/latex": [
       "$\\displaystyle 12 x^{2} + 6 x + 2$"
      ],
      "text/plain": [
       "12*x**2 + 6*x + 2"
      ]
     },
     "execution_count": 36,
     "metadata": {},
     "output_type": "execute_result"
    }
   ],
   "source": [
    "# cara 1\n",
    "df2 = f2.diff()\n",
    "df2"
   ]
  },
  {
   "cell_type": "code",
   "execution_count": 38,
   "metadata": {},
   "outputs": [
    {
     "data": {
      "text/latex": [
       "$\\displaystyle 12 x^{2} + 6 x + 2$"
      ],
      "text/plain": [
       "12*x**2 + 6*x + 2"
      ]
     },
     "execution_count": 38,
     "metadata": {},
     "output_type": "execute_result"
    }
   ],
   "source": [
    "# cara 2\n",
    "sy.diff(f2)"
   ]
  },
  {
   "cell_type": "markdown",
   "metadata": {},
   "source": [
    "### metode numerik"
   ]
  },
  {
   "cell_type": "code",
   "execution_count": 40,
   "metadata": {},
   "outputs": [],
   "source": [
    "X = np.linspace(-100,100)\n",
    "Y = 4*X**3 + 3*X**2 + 2*X -1"
   ]
  },
  {
   "cell_type": "code",
   "execution_count": 41,
   "metadata": {},
   "outputs": [
    {
     "data": {
      "text/plain": [
       "array([-100.        ,  -95.91836735,  -91.83673469,  -87.75510204,\n",
       "        -83.67346939,  -79.59183673,  -75.51020408,  -71.42857143,\n",
       "        -67.34693878,  -63.26530612,  -59.18367347,  -55.10204082,\n",
       "        -51.02040816,  -46.93877551,  -42.85714286,  -38.7755102 ,\n",
       "        -34.69387755,  -30.6122449 ,  -26.53061224,  -22.44897959,\n",
       "        -18.36734694,  -14.28571429,  -10.20408163,   -6.12244898,\n",
       "         -2.04081633,    2.04081633,    6.12244898,   10.20408163,\n",
       "         14.28571429,   18.36734694,   22.44897959,   26.53061224,\n",
       "         30.6122449 ,   34.69387755,   38.7755102 ,   42.85714286,\n",
       "         46.93877551,   51.02040816,   55.10204082,   59.18367347,\n",
       "         63.26530612,   67.34693878,   71.42857143,   75.51020408,\n",
       "         79.59183673,   83.67346939,   87.75510204,   91.83673469,\n",
       "         95.91836735,  100.        ])"
      ]
     },
     "execution_count": 41,
     "metadata": {},
     "output_type": "execute_result"
    }
   ],
   "source": [
    "X"
   ]
  },
  {
   "cell_type": "code",
   "execution_count": 42,
   "metadata": {},
   "outputs": [
    {
     "data": {
      "text/plain": [
       "array([-3.97020100e+06, -3.50251559e+06, -3.07308160e+06, -2.68026703e+06,\n",
       "       -2.32243993e+06, -1.99796832e+06, -1.70522023e+06, -1.44256368e+06,\n",
       "       -1.20836670e+06, -1.00099732e+06, -8.18823564e+05, -6.60213457e+05,\n",
       "       -5.23535029e+05, -4.07156306e+05, -3.09445315e+05, -2.28770083e+05,\n",
       "       -1.63498636e+05, -1.11999003e+05, -7.26392086e+04, -4.37872812e+04,\n",
       "       -2.38112474e+04, -1.10791341e+04, -3.95896819e+03, -8.18776607e+02,\n",
       "       -2.65862778e+01,  4.95758655e+01,  1.04168290e+03,  4.58170789e+03,\n",
       "        1.23016239e+04,  2.58334040e+04,  4.68090213e+04,  7.68604489e+04,\n",
       "        1.17619660e+05,  1.70718627e+05,  2.37789324e+05,  3.20463723e+05,\n",
       "        4.20373798e+05,  5.39151521e+05,  6.78428867e+05,  8.39837807e+05,\n",
       "        1.02501032e+06,  1.23557836e+06,  1.47317393e+06,  1.73942898e+06,\n",
       "        2.03597549e+06,  2.36444543e+06,  2.72647078e+06,  3.12368351e+06,\n",
       "        3.55771559e+06,  4.03019900e+06])"
      ]
     },
     "execution_count": 42,
     "metadata": {},
     "output_type": "execute_result"
    }
   ],
   "source": [
    "Y"
   ]
  },
  {
   "cell_type": "code",
   "execution_count": 43,
   "metadata": {},
   "outputs": [
    {
     "data": {
      "text/plain": [
       "[<matplotlib.lines.Line2D at 0x1b91c257220>]"
      ]
     },
     "execution_count": 43,
     "metadata": {},
     "output_type": "execute_result"
    },
    {
     "data": {
      "image/png": "[encoded data removed]",
      "text/plain": [
       "<Figure size 432x288 with 1 Axes>"
      ]
     },
     "metadata": {
      "needs_background": "light"
     },
     "output_type": "display_data"
    }
   ],
   "source": [
    "plt.plot(X,Y)"
   ]
  },
  {
   "cell_type": "code",
   "execution_count": 44,
   "metadata": {},
   "outputs": [],
   "source": [
    "# cara 1\n",
    "df2 = np.diff(Y)/np.diff(X)"
   ]
  },
  {
   "cell_type": "code",
   "execution_count": 45,
   "metadata": {},
   "outputs": [
    {
     "data": {
      "text/plain": [
       "[<matplotlib.lines.Line2D at 0x1b91c2c38b0>]"
      ]
     },
     "execution_count": 45,
     "metadata": {},
     "output_type": "execute_result"
    },
    {
     "data": {
      "image/png": "[encoded data removed]",
      "text/plain": [
       "<Figure size 432x288 with 1 Axes>"
      ]
     },
     "metadata": {
      "needs_background": "light"
     },
     "output_type": "display_data"
    }
   ],
   "source": [
    "plt.plot(X[1:],df2)"
   ]
  },
  {
   "cell_type": "code",
   "execution_count": 46,
   "metadata": {},
   "outputs": [
    {
     "data": {
      "text/plain": [
       "array([1.14582925e+05, 1.05211329e+05, 9.62395677e+04, 8.76676393e+04,\n",
       "       7.94955444e+04, 7.17232828e+04, 6.43508546e+04, 5.73782599e+04,\n",
       "       5.08054985e+04, 4.46325706e+04, 3.88594761e+04, 3.34862149e+04,\n",
       "       2.85127872e+04, 2.39391928e+04, 1.97654319e+04, 1.59915044e+04,\n",
       "       1.26174102e+04, 9.64314952e+03, 7.06872220e+03, 4.89412828e+03,\n",
       "       3.11936776e+03, 1.74444065e+03, 7.69346939e+02, 1.94086631e+02,\n",
       "       1.86597251e+01, 2.43066222e+02, 8.67306122e+02, 1.89137943e+03,\n",
       "       3.31528613e+03, 5.13902624e+03, 7.36259975e+03, 9.98600666e+03,\n",
       "       1.30092470e+04, 1.64323207e+04, 2.02552278e+04, 2.44779683e+04,\n",
       "       2.91005423e+04, 3.41229496e+04, 3.95451903e+04, 4.53672645e+04,\n",
       "       5.15891720e+04, 5.82109130e+04, 6.52324873e+04, 7.26538950e+04,\n",
       "       8.04751362e+04, 8.86962107e+04, 9.73171187e+04, 1.06337860e+05,\n",
       "       1.15758435e+05])"
      ]
     },
     "execution_count": 46,
     "metadata": {},
     "output_type": "execute_result"
    }
   ],
   "source": [
    "df2"
   ]
  },
  {
   "cell_type": "code",
   "execution_count": 47,
   "metadata": {},
   "outputs": [],
   "source": [
    "# cara 2\n",
    "df2a = np.gradient(Y,X)"
   ]
  },
  {
   "cell_type": "code",
   "execution_count": 48,
   "metadata": {},
   "outputs": [
    {
     "data": {
      "text/plain": [
       "[<matplotlib.lines.Line2D at 0x1b91c33a3a0>]"
      ]
     },
     "execution_count": 48,
     "metadata": {},
     "output_type": "execute_result"
    },
    {
     "data": {
      "image/png": "[encoded data removed]",
      "text/plain": [
       "<Figure size 432x288 with 1 Axes>"
      ]
     },
     "metadata": {
      "needs_background": "light"
     },
     "output_type": "display_data"
    }
   ],
   "source": [
    "plt.plot(X,df2a)"
   ]
  },
  {
   "cell_type": "code",
   "execution_count": 49,
   "metadata": {},
   "outputs": [
    {
     "data": {
      "text/plain": [
       "array([1.14582925e+05, 1.09897127e+05, 1.00725449e+05, 9.19536035e+04,\n",
       "       8.35815918e+04, 7.56094136e+04, 6.80370687e+04, 6.08645573e+04,\n",
       "       5.40918792e+04, 4.77190346e+04, 4.17460233e+04, 3.61728455e+04,\n",
       "       3.09995010e+04, 2.62259900e+04, 2.18523124e+04, 1.78784681e+04,\n",
       "       1.43044573e+04, 1.11302799e+04, 8.35593586e+03, 5.98142524e+03,\n",
       "       4.00674802e+03, 2.43190421e+03, 1.25689379e+03, 4.81716785e+02,\n",
       "       1.06373178e+02, 1.30862974e+02, 5.55186172e+02, 1.37934277e+03,\n",
       "       2.60333278e+03, 4.22715618e+03, 6.25081299e+03, 8.67430321e+03,\n",
       "       1.14976268e+04, 1.47207838e+04, 1.83437743e+04, 2.23665981e+04,\n",
       "       2.67892553e+04, 3.16117459e+04, 3.68340700e+04, 4.24562274e+04,\n",
       "       4.84782182e+04, 5.49000425e+04, 6.17217001e+04, 6.89431912e+04,\n",
       "       7.65645156e+04, 8.45856735e+04, 9.30066647e+04, 1.01827489e+05,\n",
       "       1.11048147e+05, 1.15758435e+05])"
      ]
     },
     "execution_count": 49,
     "metadata": {},
     "output_type": "execute_result"
    }
   ],
   "source": [
    "df2a"
   ]
  },
  {
   "cell_type": "markdown",
   "metadata": {},
   "source": [
    "Bentuk plot tepat. Fungsi polinom berderajat 3 akan menghasilkan turunan berupa fungsi kuadrat. Plot yang terbentuk adalah grafik dari fungsi kuadrat"
   ]
  }
 ],
 "metadata": {
  "interpreter": {
   "hash": "bc40bcb1a031be051265d6ea242fd23a70c5bf8b237076a1d93465f0e8d3f61b"
  },
  "kernelspec": {
   "display_name": "Python 3.10.2 ('my-env')",
   "language": "python",
   "name": "python3"
  },
  "language_info": {
   "codemirror_mode": {
    "name": "ipython",
    "version": 3
   },
   "file_extension": ".py",
   "mimetype": "text/x-python",
   "name": "python",
   "nbconvert_exporter": "python",
   "pygments_lexer": "ipython3",
   "version": "3.9.7"
  },
  "orig_nbformat": 4
 },
 "nbformat": 4,
 "nbformat_minor": 2
}
